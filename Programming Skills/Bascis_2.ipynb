{
 "cells": [
  {
   "cell_type": "markdown",
   "metadata": {},
   "source": [
    "# Introduction to Lists\n",
    "Introduce lists, their syntax, and basic properties."
   ]
  },
  {
   "cell_type": "code",
   "execution_count": 4,
   "metadata": {},
   "outputs": [
    {
     "name": "stdout",
     "output_type": "stream",
     "text": [
      "[1, 2, 3, 4, 5]\n",
      "1\n",
      "5\n",
      "[10, 2, 3, 4, 50]\n",
      "[10, 15, 2, 3, 4, 50, 6]\n",
      "[10, 15, 2, 4, 50]\n",
      "6\n",
      "True\n",
      "81\n",
      "5\n"
     ]
    }
   ],
   "source": [
    "# Introduction to Lists\n",
    "\n",
    "# Creating a list\n",
    "my_list = [1, 2, 3, 4, 5]\n",
    "print(my_list)  # Output: [1, 2, 3, 4, 5])\n",
    "\n",
    "# Accessing elements in a list\n",
    "first_element = my_list[0]  # Access the first element\n",
    "last_element = my_list[-1]  # Access the last element\n",
    "print(first_element)  # Output: 1\n",
    "print(last_element)  # Output: 5\n",
    "\n",
    "# Modifying elements in a list\n",
    "my_list[0] = 10  # Change the first element to 10\n",
    "my_list[-1] = 50  # Change the last element to 50\n",
    "print(my_list)  # Output: [10, 2, 3, 4, 50]\n",
    "\n",
    "# Adding elements to a list\n",
    "my_list.append(6)  # Add 6 to the end of the list\n",
    "my_list.insert(1, 15)  # Insert 15 at index 1\n",
    "print(my_list)  # Output: [10, 15, 2, 3, 4, 50, 6]\n",
    "\n",
    "# Removing elements from a list\n",
    "my_list.remove(3)  # Remove the first occurrence of 3\n",
    "popped_element = my_list.pop()  # Remove and return the last element\n",
    "print(my_list)  # Output: [10, 15, 2, 4, 50]\n",
    "print(popped_element)  # Output: 6\n",
    "\n",
    "# Searching for elements in a list\n",
    "is_in_list = 4 in my_list  # Check if 4 is in the list\n",
    "print(is_in_list)  # Output: True\n",
    "\n",
    "\n",
    "# List properties\n",
    "list_length = len(my_list)  # Get the number of elements in the list\n",
    "list_sum = sum(my_list)  # Get the sum of all elements in the list\n",
    "print(list_sum)  # Output: 81\n",
    "print(list_length)  # Output: 5"
   ]
  },
  {
   "cell_type": "markdown",
   "metadata": {},
   "source": [
    "# List Operations: Insertion, Deletion, Searching\n",
    "Demonstrate how to insert, delete, and search elements in a list using Python."
   ]
  },
  {
   "cell_type": "code",
   "execution_count": 5,
   "metadata": {},
   "outputs": [],
   "source": [
    "# List Operations: Insertion, Deletion, Searching\n",
    "\n",
    "# Inserting elements into a list\n",
    "my_list.append(7)  # Add 7 to the end of the list\n",
    "my_list.insert(2, 20)  # Insert 20 at index 2\n",
    "\n",
    "# Deleting elements from a list\n",
    "my_list.remove(15)  # Remove the first occurrence of 15\n",
    "del my_list[3]  # Delete the element at index 3\n",
    "\n",
    "# Searching for elements in a list\n",
    "index_of_4 = my_list.index(4) if 4 in my_list else -1  # Get the index of 4 if it exists, otherwise -1\n",
    "count_of_10 = my_list.count(10)  # Count the occurrences of 10 in the list"
   ]
  },
  {
   "cell_type": "markdown",
   "metadata": {},
   "source": [
    "# Introduction to Tuples\n",
    "Introduce tuples, their syntax, and basic properties."
   ]
  },
  {
   "cell_type": "code",
   "execution_count": 6,
   "metadata": {},
   "outputs": [],
   "source": [
    "# Introduction to Tuples\n",
    "\n",
    "# Creating a tuple\n",
    "my_tuple = (1, 2, 3, 4, 5)\n",
    "\n",
    "# Accessing elements in a tuple\n",
    "first_element_tuple = my_tuple[0]  # Access the first element\n",
    "last_element_tuple = my_tuple[-1]  # Access the last element\n",
    "\n",
    "# Tuples are immutable, so we cannot modify elements directly\n",
    "# my_tuple[0] = 10  # This will raise a TypeError\n",
    "\n",
    "# Adding elements to a tuple\n",
    "# Tuples are immutable, so we cannot add elements directly\n",
    "# However, we can concatenate tuples\n",
    "new_tuple = my_tuple + (6, 7)\n",
    "\n",
    "# Removing elements from a tuple\n",
    "# Tuples are immutable, so we cannot remove elements directly\n",
    "# However, we can create a new tuple without the unwanted elements\n",
    "modified_tuple = my_tuple[:2] + my_tuple[3:]  # Remove the element at index 2\n",
    "\n",
    "# Searching for elements in a tuple\n",
    "is_in_tuple = 4 in my_tuple  # Check if 4 is in the tuple\n",
    "\n",
    "# Tuple properties\n",
    "tuple_length = len(my_tuple)  # Get the number of elements in the tuple\n",
    "tuple_sum = sum(my_tuple)  # Get the sum of all elements in the tuple"
   ]
  },
  {
   "cell_type": "markdown",
   "metadata": {},
   "source": [
    "# Tuple Operations: Accessing Elements\n",
    "Show how to access elements in a tuple."
   ]
  },
  {
   "cell_type": "code",
   "execution_count": null,
   "metadata": {},
   "outputs": [],
   "source": [
    "# Tuple Operations: Accessing Elements\n",
    "\n",
    "# Creating a tuple\n",
    "my_tuple = (1, 2, 3, 4, 5)\n",
    "\n",
    "# Accessing elements in a tuple\n",
    "first_element_tuple = my_tuple[0]  # Access the first element\n",
    "second_element_tuple = my_tuple[1]  # Access the second element\n",
    "third_element_tuple = my_tuple[2]  # Access the third element\n",
    "fourth_element_tuple = my_tuple[3]  # Access the fourth element\n",
    "fifth_element_tuple = my_tuple[4]  # Access the fifth element\n",
    "\n",
    "# Accessing elements using negative indexing\n",
    "last_element_tuple = my_tuple[-1]  # Access the last element\n",
    "second_last_element_tuple = my_tuple[-2]  # Access the second last element\n",
    "\n",
    "# Accessing a range of elements (slicing)\n",
    "first_three_elements = my_tuple[:3]  # Access the first three elements\n",
    "last_two_elements = my_tuple[-2:]  # Access the last two elements\n",
    "middle_elements = my_tuple[1:4]  # Access elements from index 1 to 3 (inclusive)"
   ]
  },
  {
   "cell_type": "markdown",
   "metadata": {},
   "source": [
    "# Introduction to Dictionaries\n",
    "Introduce dictionaries, their syntax, and basic properties."
   ]
  },
  {
   "cell_type": "code",
   "execution_count": 8,
   "metadata": {},
   "outputs": [],
   "source": [
    "# Introduction to Dictionaries\n",
    "\n",
    "# Creating a dictionary\n",
    "my_dict = {'name': 'Alice', 'age': 25, 'city': 'New York'}\n",
    "\n",
    "# Accessing elements in a dictionary\n",
    "name = my_dict['name']  # Access the value associated with the key 'name'\n",
    "age = my_dict.get('age')  # Access the value associated with the key 'age' using get()\n",
    "\n",
    "# Modifying elements in a dictionary\n",
    "my_dict['age'] = 26  # Change the value associated with the key 'age' to 26\n",
    "\n",
    "# Adding elements to a dictionary\n",
    "my_dict['email'] = 'alice@example.com'  # Add a new key-value pair to the dictionary\n",
    "\n",
    "# Removing elements from a dictionary\n",
    "del my_dict['city']  # Remove the key-value pair with the key 'city'\n",
    "removed_value = my_dict.pop('email')  # Remove the key-value pair with the key 'email' and return its value\n",
    "\n",
    "# Searching for elements in a dictionary\n",
    "is_name_in_dict = 'name' in my_dict  # Check if the key 'name' is in the dictionary\n",
    "\n",
    "# Dictionary properties\n",
    "dict_length = len(my_dict)  # Get the number of key-value pairs in the dictionary\n",
    "dict_keys = list(my_dict.keys())  # Get a list of all keys in the dictionary\n",
    "dict_values = list(my_dict.values())  # Get a list of all values in the dictionary"
   ]
  },
  {
   "cell_type": "markdown",
   "metadata": {},
   "source": [
    "# Dictionary Operations: Insertion, Deletion, Searching\n",
    "Demonstrate how to insert, delete, and search elements in a dictionary using Python."
   ]
  },
  {
   "cell_type": "code",
   "execution_count": 9,
   "metadata": {},
   "outputs": [],
   "source": [
    "# Dictionary Operations: Insertion, Deletion, Searching\n",
    "\n",
    "# Inserting elements into a dictionary\n",
    "my_dict['phone'] = '123-456-7890'  # Add a new key-value pair to the dictionary\n",
    "my_dict.update({'address': '123 Main St'})  # Add a new key-value pair using update()\n",
    "\n",
    "# Deleting elements from a dictionary\n",
    "del my_dict['phone']  # Remove the key-value pair with the key 'phone'\n",
    "removed_address = my_dict.pop('address')  # Remove the key-value pair with the key 'address' and return its value\n",
    "\n",
    "# Searching for elements in a dictionary\n",
    "is_age_in_dict = 'age' in my_dict  # Check if the key 'age' is in the dictionary\n",
    "age_value = my_dict.get('age', None)  # Get the value associated with the key 'age', return None if key doesn't exist\n",
    "\n",
    "# Dictionary properties\n",
    "dict_length = len(my_dict)  # Get the number of key-value pairs in the dictionary\n",
    "dict_keys = list(my_dict.keys())  # Get a list of all keys in the dictionary\n",
    "dict_values = list(my_dict.values())  # Get a list of all values in the dictionary"
   ]
  },
  {
   "cell_type": "markdown",
   "metadata": {},
   "source": [
    "# Introduction to Sets\n",
    "Introduce sets, their syntax, and basic properties."
   ]
  },
  {
   "cell_type": "code",
   "execution_count": 10,
   "metadata": {},
   "outputs": [],
   "source": [
    "# Introduction to Sets\n",
    "\n",
    "# Creating a set\n",
    "my_set = {1, 2, 3, 4, 5}\n",
    "\n",
    "# Accessing elements in a set\n",
    "# Sets are unordered, so we cannot access elements by index\n",
    "# However, we can check for membership\n",
    "is_in_set = 3 in my_set  # Check if 3 is in the set\n",
    "\n",
    "# Adding elements to a set\n",
    "my_set.add(6)  # Add 6 to the set\n",
    "my_set.update([7, 8, 9])  # Add multiple elements to the set\n",
    "\n",
    "# Removing elements from a set\n",
    "my_set.remove(2)  # Remove 2 from the set, raises KeyError if not found\n",
    "my_set.discard(10)  # Remove 10 from the set, does nothing if not found\n",
    "popped_element = my_set.pop()  # Remove and return an arbitrary element from the set\n",
    "\n",
    "# Searching for elements in a set\n",
    "is_in_set = 4 in my_set  # Check if 4 is in the set\n",
    "\n",
    "# Set properties\n",
    "set_length = len(my_set)  # Get the number of elements in the set\n",
    "set_sum = sum(my_set)  # Get the sum of all elements in the set"
   ]
  },
  {
   "cell_type": "markdown",
   "metadata": {},
   "source": [
    "# Set Operations: Insertion, Deletion, Searching\n",
    "Demonstrate how to insert, delete, and search elements in a set using Python."
   ]
  },
  {
   "cell_type": "code",
   "execution_count": 11,
   "metadata": {},
   "outputs": [],
   "source": [
    "# Set Operations: Insertion, Deletion, Searching\n",
    "\n",
    "# Creating a set\n",
    "my_set = {1, 2, 3, 4, 5}\n",
    "\n",
    "# Inserting elements into a set\n",
    "my_set.add(6)  # Add 6 to the set\n",
    "my_set.update([7, 8, 9])  # Add multiple elements to the set\n",
    "\n",
    "# Deleting elements from a set\n",
    "my_set.remove(2)  # Remove 2 from the set, raises KeyError if not found\n",
    "my_set.discard(10)  # Remove 10 from the set, does nothing if not found\n",
    "popped_element = my_set.pop()  # Remove and return an arbitrary element from the set\n",
    "\n",
    "# Searching for elements in a set\n",
    "is_in_set = 4 in my_set  # Check if 4 is in the set\n",
    "\n",
    "# Set properties\n",
    "set_length = len(my_set)  # Get the number of elements in the set\n",
    "set_sum = sum(my_set)  # Get the sum of all elements in the set"
   ]
  }
 ],
 "metadata": {
  "kernelspec": {
   "display_name": "Python 3",
   "language": "python",
   "name": "python3"
  },
  "language_info": {
   "codemirror_mode": {
    "name": "ipython",
    "version": 3
   },
   "file_extension": ".py",
   "mimetype": "text/x-python",
   "name": "python",
   "nbconvert_exporter": "python",
   "pygments_lexer": "ipython3",
   "version": "3.11.9"
  }
 },
 "nbformat": 4,
 "nbformat_minor": 2
}
