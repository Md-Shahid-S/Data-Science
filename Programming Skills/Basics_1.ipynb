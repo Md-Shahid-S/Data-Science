{
 "cells": [
  {
   "cell_type": "markdown",
   "metadata": {},
   "source": [
    "# Print Statements\n",
    "Learn how to use the print() function to display output in Python."
   ]
  },
  {
   "cell_type": "code",
   "execution_count": 1,
   "metadata": {},
   "outputs": [
    {
     "name": "stdout",
     "output_type": "stream",
     "text": [
      "Hello, World!\n",
      "Hello World !\n",
      "Hello-World\n",
      "Hello World!\n",
      "My name is Alice and I am 25 years old.\n",
      "My name is Alice and I am 25 years old.\n",
      "Hello\n",
      "World!\n",
      "Hello\tWorld!\n",
      "Hello \"World\"!\n"
     ]
    }
   ],
   "source": [
    "# Print Statements\n",
    "\n",
    "# Basic print statement\n",
    "print(\"Hello, World!\")\n",
    "\n",
    "# Print multiple arguments\n",
    "print(\"Hello\", \"World\", \"!\")\n",
    "\n",
    "# Print with separator\n",
    "print(\"Hello\", \"World\", sep=\"-\")\n",
    "\n",
    "# Print with end parameter\n",
    "print(\"Hello\", end=\" \")\n",
    "print(\"World!\")\n",
    "\n",
    "# Print formatted string\n",
    "name = \"Alice\"\n",
    "age = 25\n",
    "print(f\"My name is {name} and I am {age} years old.\")\n",
    "\n",
    "# Print using format method\n",
    "print(\"My name is {} and I am {} years old.\".format(name, age))\n",
    "\n",
    "# Print with escape characters\n",
    "print(\"Hello\\nWorld!\")  # Newline\n",
    "print(\"Hello\\tWorld!\")  # Tab\n",
    "print(\"Hello \\\"World\\\"!\")  # Double quote"
   ]
  },
  {
   "cell_type": "markdown",
   "metadata": {},
   "source": [
    "# Variables and Data Types\n",
    "Understand how to declare variables and explore different data types such as integers, floats, strings, and booleans."
   ]
  },
  {
   "cell_type": "code",
   "execution_count": 2,
   "metadata": {},
   "outputs": [
    {
     "name": "stdout",
     "output_type": "stream",
     "text": [
      "Age: 30\n",
      "Height: 5.9\n",
      "Name: John\n",
      "Is student: True\n",
      "x: 1 y: 2.5 z: Hello\n",
      "Type of age: <class 'int'>\n",
      "Type of height: <class 'float'>\n",
      "Type of name: <class 'str'>\n",
      "Type of is_student: <class 'bool'>\n",
      "New age (string): thirty\n",
      "Type of new age: <class 'str'>\n",
      "New height (integer): 5\n",
      "Type of new height: <class 'int'>\n"
     ]
    }
   ],
   "source": [
    "# Variables and Data Types\n",
    "\n",
    "# Integer variable\n",
    "age = 30\n",
    "print(\"Age:\", age)\n",
    "\n",
    "# Float variable\n",
    "height = 5.9\n",
    "print(\"Height:\", height)\n",
    "\n",
    "# String variable\n",
    "name = \"John\"\n",
    "print(\"Name:\", name)\n",
    "\n",
    "# Boolean variable\n",
    "is_student = True\n",
    "print(\"Is student:\", is_student)\n",
    "\n",
    "# Multiple assignments\n",
    "x, y, z = 1, 2.5, \"Hello\"\n",
    "print(\"x:\", x, \"y:\", y, \"z:\", z)\n",
    "\n",
    "# Type function to check data types\n",
    "print(\"Type of age:\", type(age))\n",
    "print(\"Type of height:\", type(height))\n",
    "print(\"Type of name:\", type(name))\n",
    "print(\"Type of is_student:\", type(is_student))\n",
    "\n",
    "# Changing variable types\n",
    "age = \"thirty\"\n",
    "print(\"New age (string):\", age)\n",
    "print(\"Type of new age:\", type(age))\n",
    "\n",
    "height = int(height)\n",
    "print(\"New height (integer):\", height)\n",
    "print(\"Type of new height:\", type(height))"
   ]
  },
  {
   "cell_type": "markdown",
   "metadata": {},
   "source": [
    "# Basic Arithmetic Operations\n",
    "Perform basic arithmetic operations like addition, subtraction, multiplication, and division."
   ]
  },
  {
   "cell_type": "code",
   "execution_count": 3,
   "metadata": {},
   "outputs": [
    {
     "name": "stdout",
     "output_type": "stream",
     "text": [
      "Addition: 15\n",
      "Subtraction: 5\n",
      "Multiplication: 50\n",
      "Division: 2.0\n",
      "Floor Division: 2\n",
      "Modulus: 0\n",
      "Exponentiation: 100000\n"
     ]
    }
   ],
   "source": [
    "# Basic Arithmetic Operations\n",
    "\n",
    "# Addition\n",
    "a = 10\n",
    "b = 5\n",
    "addition = a + b\n",
    "print(\"Addition:\", addition)\n",
    "\n",
    "# Subtraction\n",
    "subtraction = a - b\n",
    "print(\"Subtraction:\", subtraction)\n",
    "\n",
    "# Multiplication\n",
    "multiplication = a * b\n",
    "print(\"Multiplication:\", multiplication)\n",
    "\n",
    "# Division\n",
    "division = a / b\n",
    "print(\"Division:\", division)\n",
    "\n",
    "# Floor Division\n",
    "floor_division = a // b\n",
    "print(\"Floor Division:\", floor_division)\n",
    "\n",
    "# Modulus\n",
    "modulus = a % b\n",
    "print(\"Modulus:\", modulus)\n",
    "\n",
    "# Exponentiation\n",
    "exponentiation = a ** b\n",
    "print(\"Exponentiation:\", exponentiation)"
   ]
  },
  {
   "cell_type": "markdown",
   "metadata": {},
   "source": [
    "# Conditional Statements\n",
    "Use if, elif, and else statements to make decisions in your code."
   ]
  },
  {
   "cell_type": "code",
   "execution_count": 4,
   "metadata": {},
   "outputs": [
    {
     "name": "stdout",
     "output_type": "stream",
     "text": [
      "The number is positive.\n",
      "The number is non-positive.\n",
      "The number is zero.\n",
      "The number is positive and odd.\n",
      "The number is a positive single-digit number.\n"
     ]
    }
   ],
   "source": [
    "# Conditional Statements\n",
    "\n",
    "# If statement\n",
    "number = 10\n",
    "if number > 0:\n",
    "    print(\"The number is positive.\")\n",
    "\n",
    "# If-else statement\n",
    "number = -5\n",
    "if number > 0:\n",
    "    print(\"The number is positive.\")\n",
    "else:\n",
    "    print(\"The number is non-positive.\")\n",
    "\n",
    "# If-elif-else statement\n",
    "number = 0\n",
    "if number > 0:\n",
    "    print(\"The number is positive.\")\n",
    "elif number == 0:\n",
    "    print(\"The number is zero.\")\n",
    "else:\n",
    "    print(\"The number is negative.\")\n",
    "\n",
    "# Nested if statements\n",
    "number = 15\n",
    "if number > 0:\n",
    "    if number % 2 == 0:\n",
    "        print(\"The number is positive and even.\")\n",
    "    else:\n",
    "        print(\"The number is positive and odd.\")\n",
    "else:\n",
    "    print(\"The number is non-positive.\")\n",
    "\n",
    "# Using logical operators\n",
    "number = 7\n",
    "if number > 0 and number < 10:\n",
    "    print(\"The number is a positive single-digit number.\")"
   ]
  },
  {
   "cell_type": "markdown",
   "metadata": {},
   "source": [
    "# Loops\n",
    "Learn how to use for and while loops to repeat actions."
   ]
  },
  {
   "cell_type": "code",
   "execution_count": 5,
   "metadata": {},
   "outputs": [
    {
     "name": "stdout",
     "output_type": "stream",
     "text": [
      "apple\n",
      "banana\n",
      "cherry\n",
      "0\n",
      "1\n",
      "2\n",
      "3\n",
      "4\n",
      "0\n",
      "2\n",
      "4\n",
      "6\n",
      "8\n",
      "0\n",
      "1\n",
      "2\n",
      "3\n",
      "4\n",
      "0\n",
      "1\n",
      "2\n",
      "1\n",
      "2\n",
      "4\n",
      "5\n"
     ]
    }
   ],
   "source": [
    "# Loops\n",
    "\n",
    "# For loop to iterate over a list\n",
    "fruits = [\"apple\", \"banana\", \"cherry\"]\n",
    "for fruit in fruits:\n",
    "    print(fruit)\n",
    "\n",
    "# For loop with range\n",
    "for i in range(5):\n",
    "    print(i)\n",
    "\n",
    "# For loop with range and step\n",
    "for i in range(0, 10, 2):\n",
    "    print(i)\n",
    "\n",
    "# While loop\n",
    "count = 0\n",
    "while count < 5:\n",
    "    print(count)\n",
    "    count += 1\n",
    "\n",
    "# While loop with break\n",
    "count = 0\n",
    "while count < 5:\n",
    "    if count == 3:\n",
    "        break\n",
    "    print(count)\n",
    "    count += 1\n",
    "\n",
    "# While loop with continue\n",
    "count = 0\n",
    "while count < 5:\n",
    "    count += 1\n",
    "    if count == 3:\n",
    "        continue\n",
    "    print(count)"
   ]
  },
  {
   "cell_type": "markdown",
   "metadata": {},
   "source": [
    "# Functions\n",
    "Define and call functions to organize and reuse code."
   ]
  },
  {
   "cell_type": "code",
   "execution_count": 6,
   "metadata": {},
   "outputs": [
    {
     "name": "stdout",
     "output_type": "stream",
     "text": [
      "Hello, welcome to the world of Python!\n",
      "Hello, Alice! Welcome to the world of Python!\n",
      "Sum: 8\n",
      "Hello, Guest! Welcome to the world of Python!\n",
      "Hello, Bob! Welcome to the world of Python!\n",
      "Hello, Alice!\n",
      "Hello, Bob!\n",
      "Hello, Charlie!\n",
      "Name: Alice, Age: 30\n",
      "name: Alice\n",
      "age: 30\n",
      "city: New York\n"
     ]
    }
   ],
   "source": [
    "# Functions\n",
    "\n",
    "# Define a simple function\n",
    "def greet():\n",
    "    print(\"Hello, welcome to the world of Python!\")\n",
    "\n",
    "# Call the function\n",
    "greet()\n",
    "\n",
    "# Function with parameters\n",
    "def greet_person(name):\n",
    "    print(f\"Hello, {name}! Welcome to the world of Python!\")\n",
    "\n",
    "# Call the function with an argument\n",
    "greet_person(\"Alice\")\n",
    "\n",
    "# Function with return value\n",
    "def add(a, b):\n",
    "    return a + b\n",
    "\n",
    "# Call the function and store the result\n",
    "result = add(5, 3)\n",
    "print(\"Sum:\", result)\n",
    "\n",
    "# Function with default parameter\n",
    "def greet_with_default(name=\"Guest\"):\n",
    "    print(f\"Hello, {name}! Welcome to the world of Python!\")\n",
    "\n",
    "# Call the function without argument\n",
    "greet_with_default()\n",
    "\n",
    "# Call the function with argument\n",
    "greet_with_default(\"Bob\")\n",
    "\n",
    "# Function with variable number of arguments\n",
    "def greet_multiple(*names):\n",
    "    for name in names:\n",
    "        print(f\"Hello, {name}!\")\n",
    "\n",
    "# Call the function with multiple arguments\n",
    "greet_multiple(\"Alice\", \"Bob\", \"Charlie\")\n",
    "\n",
    "# Function with keyword arguments\n",
    "def describe_person(name, age):\n",
    "    print(f\"Name: {name}, Age: {age}\")\n",
    "\n",
    "# Call the function with keyword arguments\n",
    "describe_person(name=\"Alice\", age=30)\n",
    "\n",
    "# Function with arbitrary keyword arguments\n",
    "def describe_person_details(**details):\n",
    "    for key, value in details.items():\n",
    "        print(f\"{key}: {value}\")\n",
    "\n",
    "# Call the function with arbitrary keyword arguments\n",
    "describe_person_details(name=\"Alice\", age=30, city=\"New York\")"
   ]
  }
 ],
 "metadata": {
  "kernelspec": {
   "display_name": "Python 3",
   "language": "python",
   "name": "python3"
  },
  "language_info": {
   "codemirror_mode": {
    "name": "ipython",
    "version": 3
   },
   "file_extension": ".py",
   "mimetype": "text/x-python",
   "name": "python",
   "nbconvert_exporter": "python",
   "pygments_lexer": "ipython3",
   "version": "3.11.9"
  }
 },
 "nbformat": 4,
 "nbformat_minor": 2
}
