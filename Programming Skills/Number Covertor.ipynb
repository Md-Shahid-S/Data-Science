{
 "cells": [
  {
   "cell_type": "markdown",
   "metadata": {},
   "source": [
    "Number Convertor"
   ]
  },
  {
   "cell_type": "code",
   "execution_count": 13,
   "metadata": {},
   "outputs": [],
   "source": [
    "import math\n",
    "num = input(\"Enter Number:\")"
   ]
  },
  {
   "cell_type": "code",
   "execution_count": 14,
   "metadata": {},
   "outputs": [
    {
     "name": "stdout",
     "output_type": "stream",
     "text": [
      "\n",
      "1. binary, \n",
      "2. decimal, \n",
      "3. octal, \n",
      "4. hexadecimal, \n",
      "5. Exit\n"
     ]
    }
   ],
   "source": [
    "print('\\n1. binary, \\n2. decimal, \\n3. octal, \\n4. hexadecimal, \\n5. Exit')\n",
    "input_format = input(\"Enter format\")"
   ]
  },
  {
   "cell_type": "code",
   "execution_count": 16,
   "metadata": {},
   "outputs": [
    {
     "name": "stdout",
     "output_type": "stream",
     "text": [
      "Binary: 0b101101\n",
      "Octal: 0o55\n",
      "Hexadecimal: 0x2d\n"
     ]
    }
   ],
   "source": [
    "if input_format == '1':\n",
    "    print('Decimal:', int(num, 2))\n",
    "    print('Octal:', oct(int(num, 2)))\n",
    "    print('Hexadecimal:', hex(int(num, 2)))\n",
    "elif input_format == '2':\n",
    "    print('Binary:', bin(int(num)))\n",
    "    print('Octal:', oct(int(num)))\n",
    "    print('Hexadecimal:', hex(int(num)))\n",
    "elif input_format == '3':\n",
    "    print('Binary:', bin(int(num, 8)))\n",
    "    print('Decimal:', int(num, 8))\n",
    "    print('Hexadecimal:', hex(int(num, 8)))\n",
    "elif input_format == '4':\n",
    "    print('Binary:', bin(int(num, 16)))\n",
    "    print('Decimal:', int(num, 16))\n",
    "    print('Octal:', oct(int(num, 16)))\n",
    "elif input_format == '5':\n",
    "    exit()\n",
    "else:\n",
    "    print('Invalid Input')\n",
    "    exit()\n"
   ]
  },
  {
   "cell_type": "code",
   "execution_count": null,
   "metadata": {},
   "outputs": [],
   "source": []
  }
 ],
 "metadata": {
  "kernelspec": {
   "display_name": "Python 3",
   "language": "python",
   "name": "python3"
  },
  "language_info": {
   "codemirror_mode": {
    "name": "ipython",
    "version": 3
   },
   "file_extension": ".py",
   "mimetype": "text/x-python",
   "name": "python",
   "nbconvert_exporter": "python",
   "pygments_lexer": "ipython3",
   "version": "3.11.9"
  }
 },
 "nbformat": 4,
 "nbformat_minor": 2
}
